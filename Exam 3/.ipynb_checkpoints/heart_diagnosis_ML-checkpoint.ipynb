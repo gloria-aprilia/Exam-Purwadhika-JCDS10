{
 "cells": [
  {
   "cell_type": "markdown",
   "metadata": {},
   "source": [
    "# Data Processing"
   ]
  },
  {
   "cell_type": "code",
   "execution_count": 1,
   "metadata": {},
   "outputs": [],
   "source": [
    "# import library\n",
    "import numpy as np\n",
    "import pandas as pd\n",
    "import seaborn as sns\n",
    "import matplotlib.pyplot as plt\n",
    "%matplotlib inline\n",
    "\n",
    "import warnings\n",
    "warnings.filterwarnings('ignore')"
   ]
  },
  {
   "cell_type": "code",
   "execution_count": 2,
   "metadata": {},
   "outputs": [
    {
     "data": {
      "text/html": [
       "<div>\n",
       "<style scoped>\n",
       "    .dataframe tbody tr th:only-of-type {\n",
       "        vertical-align: middle;\n",
       "    }\n",
       "\n",
       "    .dataframe tbody tr th {\n",
       "        vertical-align: top;\n",
       "    }\n",
       "\n",
       "    .dataframe thead th {\n",
       "        text-align: right;\n",
       "    }\n",
       "</style>\n",
       "<table border=\"1\" class=\"dataframe\">\n",
       "  <thead>\n",
       "    <tr style=\"text-align: right;\">\n",
       "      <th></th>\n",
       "      <th>age</th>\n",
       "      <th>sex</th>\n",
       "      <th>chest_pain</th>\n",
       "      <th>systolic</th>\n",
       "      <th>cholesterol</th>\n",
       "      <th>fasting_blood_sugar</th>\n",
       "      <th>restECG</th>\n",
       "      <th>max_heart_rate</th>\n",
       "      <th>exercise_induced_angina</th>\n",
       "      <th>st_depression</th>\n",
       "      <th>slope</th>\n",
       "      <th>number_vessel</th>\n",
       "      <th>thallium_stress</th>\n",
       "      <th>diagnose</th>\n",
       "    </tr>\n",
       "  </thead>\n",
       "  <tbody>\n",
       "    <tr>\n",
       "      <th>0</th>\n",
       "      <td>63</td>\n",
       "      <td>1</td>\n",
       "      <td>3</td>\n",
       "      <td>145</td>\n",
       "      <td>233</td>\n",
       "      <td>1</td>\n",
       "      <td>0</td>\n",
       "      <td>150</td>\n",
       "      <td>0</td>\n",
       "      <td>2.3</td>\n",
       "      <td>0</td>\n",
       "      <td>0</td>\n",
       "      <td>1</td>\n",
       "      <td>1</td>\n",
       "    </tr>\n",
       "    <tr>\n",
       "      <th>1</th>\n",
       "      <td>37</td>\n",
       "      <td>1</td>\n",
       "      <td>2</td>\n",
       "      <td>130</td>\n",
       "      <td>250</td>\n",
       "      <td>0</td>\n",
       "      <td>1</td>\n",
       "      <td>187</td>\n",
       "      <td>0</td>\n",
       "      <td>3.5</td>\n",
       "      <td>0</td>\n",
       "      <td>0</td>\n",
       "      <td>2</td>\n",
       "      <td>1</td>\n",
       "    </tr>\n",
       "    <tr>\n",
       "      <th>2</th>\n",
       "      <td>41</td>\n",
       "      <td>0</td>\n",
       "      <td>1</td>\n",
       "      <td>130</td>\n",
       "      <td>204</td>\n",
       "      <td>0</td>\n",
       "      <td>0</td>\n",
       "      <td>172</td>\n",
       "      <td>0</td>\n",
       "      <td>1.4</td>\n",
       "      <td>2</td>\n",
       "      <td>0</td>\n",
       "      <td>2</td>\n",
       "      <td>1</td>\n",
       "    </tr>\n",
       "    <tr>\n",
       "      <th>3</th>\n",
       "      <td>56</td>\n",
       "      <td>1</td>\n",
       "      <td>1</td>\n",
       "      <td>120</td>\n",
       "      <td>236</td>\n",
       "      <td>0</td>\n",
       "      <td>1</td>\n",
       "      <td>178</td>\n",
       "      <td>0</td>\n",
       "      <td>0.8</td>\n",
       "      <td>2</td>\n",
       "      <td>0</td>\n",
       "      <td>2</td>\n",
       "      <td>1</td>\n",
       "    </tr>\n",
       "    <tr>\n",
       "      <th>4</th>\n",
       "      <td>57</td>\n",
       "      <td>0</td>\n",
       "      <td>0</td>\n",
       "      <td>120</td>\n",
       "      <td>354</td>\n",
       "      <td>0</td>\n",
       "      <td>1</td>\n",
       "      <td>163</td>\n",
       "      <td>1</td>\n",
       "      <td>0.6</td>\n",
       "      <td>2</td>\n",
       "      <td>0</td>\n",
       "      <td>2</td>\n",
       "      <td>1</td>\n",
       "    </tr>\n",
       "  </tbody>\n",
       "</table>\n",
       "</div>"
      ],
      "text/plain": [
       "   age  sex  chest_pain  systolic  cholesterol  fasting_blood_sugar  restECG  \\\n",
       "0   63    1           3       145          233                    1        0   \n",
       "1   37    1           2       130          250                    0        1   \n",
       "2   41    0           1       130          204                    0        0   \n",
       "3   56    1           1       120          236                    0        1   \n",
       "4   57    0           0       120          354                    0        1   \n",
       "\n",
       "   max_heart_rate  exercise_induced_angina  st_depression  slope  \\\n",
       "0             150                        0            2.3      0   \n",
       "1             187                        0            3.5      0   \n",
       "2             172                        0            1.4      2   \n",
       "3             178                        0            0.8      2   \n",
       "4             163                        1            0.6      2   \n",
       "\n",
       "   number_vessel  thallium_stress  diagnose  \n",
       "0              0                1         1  \n",
       "1              0                2         1  \n",
       "2              0                2         1  \n",
       "3              0                2         1  \n",
       "4              0                2         1  "
      ]
     },
     "execution_count": 2,
     "metadata": {},
     "output_type": "execute_result"
    }
   ],
   "source": [
    "# import data\n",
    "df = pd.read_csv('heart_clean.csv')\n",
    "df.head()\n",
    "\n",
    "# note:\n",
    "# heart_clean.csv is heart.csv that has been cleaned in heart_diagnosis_EDA.ipynb"
   ]
  },
  {
   "cell_type": "code",
   "execution_count": 3,
   "metadata": {},
   "outputs": [
    {
     "data": {
      "text/plain": [
       "max_heart_rate             0.426655\n",
       "chest_pain                 0.423425\n",
       "slope                      0.337825\n",
       "restECG                    0.131716\n",
       "fasting_blood_sugar       -0.004680\n",
       "cholesterol               -0.076541\n",
       "systolic                  -0.148922\n",
       "age                       -0.225453\n",
       "sex                       -0.285322\n",
       "thallium_stress           -0.364399\n",
       "exercise_induced_angina   -0.425085\n",
       "st_depression             -0.428804\n",
       "number_vessel             -0.467158\n",
       "Name: diagnose, dtype: float64"
      ]
     },
     "execution_count": 3,
     "metadata": {},
     "output_type": "execute_result"
    }
   ],
   "source": [
    "# correlation between features and target\n",
    "df.corr()['diagnose'].sort_values(ascending=False)[1:]"
   ]
  },
  {
   "cell_type": "markdown",
   "metadata": {},
   "source": [
    "# Feature Engineering"
   ]
  },
  {
   "cell_type": "code",
   "execution_count": 4,
   "metadata": {},
   "outputs": [],
   "source": [
    "# feature selection\n",
    "\n",
    "# all features has moderate correlation level, except the fasting_blood sugar\n",
    "# cholesterol has low correlation with diagnose, but EDA says it matters\n",
    "df = df.drop(columns='fasting_blood_sugar')"
   ]
  },
  {
   "cell_type": "code",
   "execution_count": 5,
   "metadata": {},
   "outputs": [
    {
     "data": {
      "text/html": [
       "<div>\n",
       "<style scoped>\n",
       "    .dataframe tbody tr th:only-of-type {\n",
       "        vertical-align: middle;\n",
       "    }\n",
       "\n",
       "    .dataframe tbody tr th {\n",
       "        vertical-align: top;\n",
       "    }\n",
       "\n",
       "    .dataframe thead th {\n",
       "        text-align: right;\n",
       "    }\n",
       "</style>\n",
       "<table border=\"1\" class=\"dataframe\">\n",
       "  <thead>\n",
       "    <tr style=\"text-align: right;\">\n",
       "      <th></th>\n",
       "      <th>age</th>\n",
       "      <th>sex</th>\n",
       "      <th>chest_pain</th>\n",
       "      <th>systolic</th>\n",
       "      <th>cholesterol</th>\n",
       "      <th>max_heart_rate</th>\n",
       "      <th>exercise_induced_angina</th>\n",
       "      <th>st_depression</th>\n",
       "      <th>slope</th>\n",
       "      <th>number_vessel</th>\n",
       "      <th>diagnose</th>\n",
       "      <th>restECG_0</th>\n",
       "      <th>restECG_1</th>\n",
       "      <th>restECG_2</th>\n",
       "      <th>thallium_stress_1</th>\n",
       "      <th>thallium_stress_2</th>\n",
       "      <th>thallium_stress_3</th>\n",
       "    </tr>\n",
       "  </thead>\n",
       "  <tbody>\n",
       "    <tr>\n",
       "      <th>0</th>\n",
       "      <td>63</td>\n",
       "      <td>1</td>\n",
       "      <td>3</td>\n",
       "      <td>145</td>\n",
       "      <td>233</td>\n",
       "      <td>150</td>\n",
       "      <td>0</td>\n",
       "      <td>2.3</td>\n",
       "      <td>0</td>\n",
       "      <td>0</td>\n",
       "      <td>1</td>\n",
       "      <td>1</td>\n",
       "      <td>0</td>\n",
       "      <td>0</td>\n",
       "      <td>1</td>\n",
       "      <td>0</td>\n",
       "      <td>0</td>\n",
       "    </tr>\n",
       "    <tr>\n",
       "      <th>1</th>\n",
       "      <td>37</td>\n",
       "      <td>1</td>\n",
       "      <td>2</td>\n",
       "      <td>130</td>\n",
       "      <td>250</td>\n",
       "      <td>187</td>\n",
       "      <td>0</td>\n",
       "      <td>3.5</td>\n",
       "      <td>0</td>\n",
       "      <td>0</td>\n",
       "      <td>1</td>\n",
       "      <td>0</td>\n",
       "      <td>1</td>\n",
       "      <td>0</td>\n",
       "      <td>0</td>\n",
       "      <td>1</td>\n",
       "      <td>0</td>\n",
       "    </tr>\n",
       "    <tr>\n",
       "      <th>2</th>\n",
       "      <td>41</td>\n",
       "      <td>0</td>\n",
       "      <td>1</td>\n",
       "      <td>130</td>\n",
       "      <td>204</td>\n",
       "      <td>172</td>\n",
       "      <td>0</td>\n",
       "      <td>1.4</td>\n",
       "      <td>2</td>\n",
       "      <td>0</td>\n",
       "      <td>1</td>\n",
       "      <td>1</td>\n",
       "      <td>0</td>\n",
       "      <td>0</td>\n",
       "      <td>0</td>\n",
       "      <td>1</td>\n",
       "      <td>0</td>\n",
       "    </tr>\n",
       "    <tr>\n",
       "      <th>3</th>\n",
       "      <td>56</td>\n",
       "      <td>1</td>\n",
       "      <td>1</td>\n",
       "      <td>120</td>\n",
       "      <td>236</td>\n",
       "      <td>178</td>\n",
       "      <td>0</td>\n",
       "      <td>0.8</td>\n",
       "      <td>2</td>\n",
       "      <td>0</td>\n",
       "      <td>1</td>\n",
       "      <td>0</td>\n",
       "      <td>1</td>\n",
       "      <td>0</td>\n",
       "      <td>0</td>\n",
       "      <td>1</td>\n",
       "      <td>0</td>\n",
       "    </tr>\n",
       "    <tr>\n",
       "      <th>4</th>\n",
       "      <td>57</td>\n",
       "      <td>0</td>\n",
       "      <td>0</td>\n",
       "      <td>120</td>\n",
       "      <td>354</td>\n",
       "      <td>163</td>\n",
       "      <td>1</td>\n",
       "      <td>0.6</td>\n",
       "      <td>2</td>\n",
       "      <td>0</td>\n",
       "      <td>1</td>\n",
       "      <td>0</td>\n",
       "      <td>1</td>\n",
       "      <td>0</td>\n",
       "      <td>0</td>\n",
       "      <td>1</td>\n",
       "      <td>0</td>\n",
       "    </tr>\n",
       "  </tbody>\n",
       "</table>\n",
       "</div>"
      ],
      "text/plain": [
       "   age  sex  chest_pain  systolic  cholesterol  max_heart_rate  \\\n",
       "0   63    1           3       145          233             150   \n",
       "1   37    1           2       130          250             187   \n",
       "2   41    0           1       130          204             172   \n",
       "3   56    1           1       120          236             178   \n",
       "4   57    0           0       120          354             163   \n",
       "\n",
       "   exercise_induced_angina  st_depression  slope  number_vessel  diagnose  \\\n",
       "0                        0            2.3      0              0         1   \n",
       "1                        0            3.5      0              0         1   \n",
       "2                        0            1.4      2              0         1   \n",
       "3                        0            0.8      2              0         1   \n",
       "4                        1            0.6      2              0         1   \n",
       "\n",
       "   restECG_0  restECG_1  restECG_2  thallium_stress_1  thallium_stress_2  \\\n",
       "0          1          0          0                  1                  0   \n",
       "1          0          1          0                  0                  1   \n",
       "2          1          0          0                  0                  1   \n",
       "3          0          1          0                  0                  1   \n",
       "4          0          1          0                  0                  1   \n",
       "\n",
       "   thallium_stress_3  \n",
       "0                  0  \n",
       "1                  0  \n",
       "2                  0  \n",
       "3                  0  \n",
       "4                  0  "
      ]
     },
     "execution_count": 5,
     "metadata": {},
     "output_type": "execute_result"
    }
   ],
   "source": [
    "# one hot encoding non-binary nominal data\n",
    "\n",
    "# restECG\n",
    "df = pd.get_dummies(data=df, columns=['restECG'], prefix_sep='_')\n",
    "\n",
    "# thallium_stress\n",
    "df = pd.get_dummies(data=df, columns=['thallium_stress'], prefix_sep='_')\n",
    "\n",
    "df.head()"
   ]
  },
  {
   "cell_type": "code",
   "execution_count": 6,
   "metadata": {},
   "outputs": [
    {
     "data": {
      "text/plain": [
       "thallium_stress_2          0.530032\n",
       "max_heart_rate             0.426655\n",
       "chest_pain                 0.423425\n",
       "slope                      0.337825\n",
       "restECG_1                  0.170030\n",
       "restECG_2                 -0.068235\n",
       "cholesterol               -0.076541\n",
       "thallium_stress_1         -0.105799\n",
       "systolic                  -0.148922\n",
       "restECG_0                 -0.154302\n",
       "age                       -0.225453\n",
       "sex                       -0.285322\n",
       "exercise_induced_angina   -0.425085\n",
       "st_depression             -0.428804\n",
       "number_vessel             -0.467158\n",
       "thallium_stress_3         -0.489046\n",
       "Name: diagnose, dtype: float64"
      ]
     },
     "execution_count": 6,
     "metadata": {},
     "output_type": "execute_result"
    }
   ],
   "source": [
    "# correlation between features and target\n",
    "df.corr()['diagnose'].sort_values(ascending=False)[1:]"
   ]
  },
  {
   "cell_type": "code",
   "execution_count": 7,
   "metadata": {},
   "outputs": [
    {
     "data": {
      "text/html": [
       "<div>\n",
       "<style scoped>\n",
       "    .dataframe tbody tr th:only-of-type {\n",
       "        vertical-align: middle;\n",
       "    }\n",
       "\n",
       "    .dataframe tbody tr th {\n",
       "        vertical-align: top;\n",
       "    }\n",
       "\n",
       "    .dataframe thead th {\n",
       "        text-align: right;\n",
       "    }\n",
       "</style>\n",
       "<table border=\"1\" class=\"dataframe\">\n",
       "  <thead>\n",
       "    <tr style=\"text-align: right;\">\n",
       "      <th></th>\n",
       "      <th>age</th>\n",
       "      <th>sex</th>\n",
       "      <th>chest_pain</th>\n",
       "      <th>systolic</th>\n",
       "      <th>cholesterol</th>\n",
       "      <th>max_heart_rate</th>\n",
       "      <th>exercise_induced_angina</th>\n",
       "      <th>st_depression</th>\n",
       "      <th>slope</th>\n",
       "      <th>number_vessel</th>\n",
       "      <th>diagnose</th>\n",
       "      <th>restECG_0</th>\n",
       "      <th>restECG_1</th>\n",
       "      <th>restECG_2</th>\n",
       "      <th>thallium_stress_1</th>\n",
       "      <th>thallium_stress_2</th>\n",
       "      <th>thallium_stress_3</th>\n",
       "    </tr>\n",
       "  </thead>\n",
       "  <tbody>\n",
       "    <tr>\n",
       "      <th>0</th>\n",
       "      <td>63</td>\n",
       "      <td>1</td>\n",
       "      <td>3</td>\n",
       "      <td>0.75</td>\n",
       "      <td>-0.147860</td>\n",
       "      <td>-0.075758</td>\n",
       "      <td>0</td>\n",
       "      <td>2.3</td>\n",
       "      <td>0</td>\n",
       "      <td>0</td>\n",
       "      <td>1</td>\n",
       "      <td>1</td>\n",
       "      <td>0</td>\n",
       "      <td>0</td>\n",
       "      <td>1</td>\n",
       "      <td>0</td>\n",
       "      <td>0</td>\n",
       "    </tr>\n",
       "    <tr>\n",
       "      <th>1</th>\n",
       "      <td>37</td>\n",
       "      <td>1</td>\n",
       "      <td>2</td>\n",
       "      <td>0.00</td>\n",
       "      <td>0.116732</td>\n",
       "      <td>1.045455</td>\n",
       "      <td>0</td>\n",
       "      <td>3.5</td>\n",
       "      <td>0</td>\n",
       "      <td>0</td>\n",
       "      <td>1</td>\n",
       "      <td>0</td>\n",
       "      <td>1</td>\n",
       "      <td>0</td>\n",
       "      <td>0</td>\n",
       "      <td>1</td>\n",
       "      <td>0</td>\n",
       "    </tr>\n",
       "    <tr>\n",
       "      <th>2</th>\n",
       "      <td>41</td>\n",
       "      <td>0</td>\n",
       "      <td>1</td>\n",
       "      <td>0.00</td>\n",
       "      <td>-0.599222</td>\n",
       "      <td>0.590909</td>\n",
       "      <td>0</td>\n",
       "      <td>1.4</td>\n",
       "      <td>2</td>\n",
       "      <td>0</td>\n",
       "      <td>1</td>\n",
       "      <td>1</td>\n",
       "      <td>0</td>\n",
       "      <td>0</td>\n",
       "      <td>0</td>\n",
       "      <td>1</td>\n",
       "      <td>0</td>\n",
       "    </tr>\n",
       "    <tr>\n",
       "      <th>3</th>\n",
       "      <td>56</td>\n",
       "      <td>1</td>\n",
       "      <td>1</td>\n",
       "      <td>-0.50</td>\n",
       "      <td>-0.101167</td>\n",
       "      <td>0.772727</td>\n",
       "      <td>0</td>\n",
       "      <td>0.8</td>\n",
       "      <td>2</td>\n",
       "      <td>0</td>\n",
       "      <td>1</td>\n",
       "      <td>0</td>\n",
       "      <td>1</td>\n",
       "      <td>0</td>\n",
       "      <td>0</td>\n",
       "      <td>1</td>\n",
       "      <td>0</td>\n",
       "    </tr>\n",
       "    <tr>\n",
       "      <th>4</th>\n",
       "      <td>57</td>\n",
       "      <td>0</td>\n",
       "      <td>0</td>\n",
       "      <td>-0.50</td>\n",
       "      <td>1.735409</td>\n",
       "      <td>0.318182</td>\n",
       "      <td>1</td>\n",
       "      <td>0.6</td>\n",
       "      <td>2</td>\n",
       "      <td>0</td>\n",
       "      <td>1</td>\n",
       "      <td>0</td>\n",
       "      <td>1</td>\n",
       "      <td>0</td>\n",
       "      <td>0</td>\n",
       "      <td>1</td>\n",
       "      <td>0</td>\n",
       "    </tr>\n",
       "  </tbody>\n",
       "</table>\n",
       "</div>"
      ],
      "text/plain": [
       "   age  sex  chest_pain  systolic  cholesterol  max_heart_rate  \\\n",
       "0   63    1           3      0.75    -0.147860       -0.075758   \n",
       "1   37    1           2      0.00     0.116732        1.045455   \n",
       "2   41    0           1      0.00    -0.599222        0.590909   \n",
       "3   56    1           1     -0.50    -0.101167        0.772727   \n",
       "4   57    0           0     -0.50     1.735409        0.318182   \n",
       "\n",
       "   exercise_induced_angina  st_depression  slope  number_vessel  diagnose  \\\n",
       "0                        0            2.3      0              0         1   \n",
       "1                        0            3.5      0              0         1   \n",
       "2                        0            1.4      2              0         1   \n",
       "3                        0            0.8      2              0         1   \n",
       "4                        1            0.6      2              0         1   \n",
       "\n",
       "   restECG_0  restECG_1  restECG_2  thallium_stress_1  thallium_stress_2  \\\n",
       "0          1          0          0                  1                  0   \n",
       "1          0          1          0                  0                  1   \n",
       "2          1          0          0                  0                  1   \n",
       "3          0          1          0                  0                  1   \n",
       "4          0          1          0                  0                  1   \n",
       "\n",
       "   thallium_stress_3  \n",
       "0                  0  \n",
       "1                  0  \n",
       "2                  0  \n",
       "3                  0  \n",
       "4                  0  "
      ]
     },
     "execution_count": 7,
     "metadata": {},
     "output_type": "execute_result"
    }
   ],
   "source": [
    "# feature scaling\n",
    "\n",
    "# we need to scale some features by using Robust Scaler to minimize the effect of outliers\n",
    "from sklearn.preprocessing import RobustScaler\n",
    "df['systolic'] = RobustScaler().fit_transform(df[['systolic']])\n",
    "df['cholesterol'] = RobustScaler().fit_transform(df[['cholesterol']])\n",
    "df['max_heart_rate'] = RobustScaler().fit_transform(df[['max_heart_rate']])\n",
    "\n",
    "df.head()"
   ]
  },
  {
   "cell_type": "markdown",
   "metadata": {},
   "source": [
    "# Data Processing into Machine Learning"
   ]
  },
  {
   "cell_type": "code",
   "execution_count": 8,
   "metadata": {},
   "outputs": [],
   "source": [
    "# data splitting into fetaure and target\n",
    "X = df.drop(columns='diagnose')\n",
    "y = df['diagnose']"
   ]
  },
  {
   "cell_type": "code",
   "execution_count": 9,
   "metadata": {},
   "outputs": [],
   "source": [
    "# data splitting into train and test\n",
    "from sklearn.model_selection import train_test_split\n",
    "X_train, X_test, y_train, y_test = train_test_split(X, y, stratify=y, train_size=0.75, random_state=99)\n",
    "df_train = pd.concat([X_train, y_train], axis=1)"
   ]
  },
  {
   "cell_type": "code",
   "execution_count": 10,
   "metadata": {},
   "outputs": [
    {
     "data": {
      "text/plain": [
       "1    120\n",
       "0    102\n",
       "Name: diagnose, dtype: int64"
      ]
     },
     "execution_count": 10,
     "metadata": {},
     "output_type": "execute_result"
    }
   ],
   "source": [
    "# checking the balance of values\n",
    "y_train.value_counts()\n",
    "\n",
    "# the data is imbalance, there is gap between the number of heart disease and non-heart disease\n",
    "# majority data: diagnosed heart disease\n",
    "# minority data: diagnosed non-heart disease"
   ]
  },
  {
   "cell_type": "code",
   "execution_count": 11,
   "metadata": {},
   "outputs": [
    {
     "data": {
      "text/plain": [
       "1    120\n",
       "0    120\n",
       "Name: diagnose, dtype: int64"
      ]
     },
     "execution_count": 11,
     "metadata": {},
     "output_type": "execute_result"
    }
   ],
   "source": [
    "# do SMOTE to synthesize data of the minority\n",
    "import imblearn\n",
    "from imblearn.over_sampling import SMOTE\n",
    "\n",
    "sm = SMOTE()\n",
    "X_sm, y_sm = sm.fit_sample(X_train, y_train)\n",
    "df_sm = pd.concat([X_sm, y_sm], axis=1)\n",
    "\n",
    "# check if the data has been balanced\n",
    "y_sm.value_counts()"
   ]
  },
  {
   "cell_type": "markdown",
   "metadata": {},
   "source": [
    "# Machine Learning"
   ]
  },
  {
   "cell_type": "code",
   "execution_count": 12,
   "metadata": {},
   "outputs": [],
   "source": [
    "from sklearn.metrics import classification_report, confusion_matrix, accuracy_score, precision_score, recall_score, f1_score"
   ]
  },
  {
   "cell_type": "markdown",
   "metadata": {},
   "source": [
    "In this machine learning process we need to focus on the recall_score value. We just do not want those with heart-disease risk is missed from observation, because it can risks patient's life."
   ]
  },
  {
   "cell_type": "markdown",
   "metadata": {},
   "source": [
    "## Logistic Regression (base)"
   ]
  },
  {
   "cell_type": "code",
   "execution_count": 13,
   "metadata": {},
   "outputs": [],
   "source": [
    "from sklearn.linear_model import LogisticRegression"
   ]
  },
  {
   "cell_type": "code",
   "execution_count": 14,
   "metadata": {},
   "outputs": [],
   "source": [
    "LR = LogisticRegression()\n",
    "LR.fit(X_sm, y_sm)\n",
    "y_pred_LR = LR.predict(X_test)"
   ]
  },
  {
   "cell_type": "code",
   "execution_count": 15,
   "metadata": {},
   "outputs": [
    {
     "name": "stdout",
     "output_type": "stream",
     "text": [
      "              precision    recall  f1-score   support\n",
      "\n",
      "           0       0.89      0.74      0.81        34\n",
      "           1       0.80      0.93      0.86        40\n",
      "\n",
      "    accuracy                           0.84        74\n",
      "   macro avg       0.85      0.83      0.83        74\n",
      "weighted avg       0.85      0.84      0.84        74\n",
      "\n"
     ]
    }
   ],
   "source": [
    "acc_LR = accuracy_score(y_test, y_pred_LR)\n",
    "pre_LR = precision_score(y_test, y_pred_LR)\n",
    "rec_LR = recall_score(y_test, y_pred_LR)\n",
    "f1_LR = f1_score(y_test, y_pred_LR)\n",
    "print(classification_report(y_test, y_pred_LR))"
   ]
  },
  {
   "cell_type": "code",
   "execution_count": 16,
   "metadata": {},
   "outputs": [
    {
     "data": {
      "text/html": [
       "<div>\n",
       "<style scoped>\n",
       "    .dataframe tbody tr th:only-of-type {\n",
       "        vertical-align: middle;\n",
       "    }\n",
       "\n",
       "    .dataframe tbody tr th {\n",
       "        vertical-align: top;\n",
       "    }\n",
       "\n",
       "    .dataframe thead th {\n",
       "        text-align: right;\n",
       "    }\n",
       "</style>\n",
       "<table border=\"1\" class=\"dataframe\">\n",
       "  <thead>\n",
       "    <tr style=\"text-align: right;\">\n",
       "      <th></th>\n",
       "      <th>Pred 1</th>\n",
       "      <th>Pred 0</th>\n",
       "    </tr>\n",
       "  </thead>\n",
       "  <tbody>\n",
       "    <tr>\n",
       "      <th>Act 1</th>\n",
       "      <td>37</td>\n",
       "      <td>3</td>\n",
       "    </tr>\n",
       "    <tr>\n",
       "      <th>Act 0</th>\n",
       "      <td>9</td>\n",
       "      <td>25</td>\n",
       "    </tr>\n",
       "  </tbody>\n",
       "</table>\n",
       "</div>"
      ],
      "text/plain": [
       "       Pred 1  Pred 0\n",
       "Act 1      37       3\n",
       "Act 0       9      25"
      ]
     },
     "execution_count": 16,
     "metadata": {},
     "output_type": "execute_result"
    }
   ],
   "source": [
    "cm_LR = confusion_matrix(y_test, y_pred_LR, labels = [1,0])\n",
    "df_LR = pd.DataFrame(data = cm_LR , index = [\"Act 1\",\"Act 0\"], columns = [\"Pred 1\", \"Pred 0\"])\n",
    "df_LR"
   ]
  },
  {
   "cell_type": "markdown",
   "metadata": {},
   "source": [
    "### Logistic Regression (Hyperparameter Tuning)"
   ]
  },
  {
   "cell_type": "code",
   "execution_count": 17,
   "metadata": {},
   "outputs": [],
   "source": [
    "from sklearn.linear_model import LogisticRegression\n",
    "from sklearn.model_selection import GridSearchCV"
   ]
  },
  {
   "cell_type": "code",
   "execution_count": 54,
   "metadata": {},
   "outputs": [],
   "source": [
    "LR_tuning = LogisticRegression()\n",
    "para_LR = {'C': [1, 0.001, 0.15, 0.01, 0.1],\n",
    "            'penalty': ['l2', 'l1', 'elasticnet']}\n",
    "LR_tuning = GridSearchCV(estimator = LR_tuning, param_grid = para_LR, cv = 3, n_jobs = -1 , verbose = 1, scoring = 'recall')"
   ]
  },
  {
   "cell_type": "code",
   "execution_count": 55,
   "metadata": {},
   "outputs": [
    {
     "name": "stdout",
     "output_type": "stream",
     "text": [
      "Fitting 3 folds for each of 15 candidates, totalling 45 fits\n"
     ]
    },
    {
     "name": "stderr",
     "output_type": "stream",
     "text": [
      "[Parallel(n_jobs=-1)]: Using backend LokyBackend with 8 concurrent workers.\n",
      "[Parallel(n_jobs=-1)]: Done  45 out of  45 | elapsed:    1.4s finished\n"
     ]
    }
   ],
   "source": [
    "LR_tuning.fit(X_sm, y_sm)\n",
    "LR_tuned = LR_tuning.best_estimator_\n",
    "y_pred_LR_tuned = LR_tuned.predict(X_test)"
   ]
  },
  {
   "cell_type": "code",
   "execution_count": 56,
   "metadata": {},
   "outputs": [
    {
     "name": "stdout",
     "output_type": "stream",
     "text": [
      "              precision    recall  f1-score   support\n",
      "\n",
      "           0       0.89      0.71      0.79        34\n",
      "           1       0.79      0.93      0.85        40\n",
      "\n",
      "    accuracy                           0.82        74\n",
      "   macro avg       0.84      0.82      0.82        74\n",
      "weighted avg       0.83      0.82      0.82        74\n",
      "\n"
     ]
    }
   ],
   "source": [
    "acc_LR_tuned = accuracy_score(y_test, y_pred_LR_tuned)\n",
    "pre_LR_tuned = precision_score(y_test, y_pred_LR_tuned)\n",
    "rec_LR_tuned = recall_score(y_test, y_pred_LR_tuned)\n",
    "f1_LR_tuned = f1_score(y_test, y_pred_LR_tuned)\n",
    "print(classification_report(y_test, y_pred_LR_tuned))"
   ]
  },
  {
   "cell_type": "code",
   "execution_count": 57,
   "metadata": {},
   "outputs": [
    {
     "data": {
      "text/html": [
       "<div>\n",
       "<style scoped>\n",
       "    .dataframe tbody tr th:only-of-type {\n",
       "        vertical-align: middle;\n",
       "    }\n",
       "\n",
       "    .dataframe tbody tr th {\n",
       "        vertical-align: top;\n",
       "    }\n",
       "\n",
       "    .dataframe thead th {\n",
       "        text-align: right;\n",
       "    }\n",
       "</style>\n",
       "<table border=\"1\" class=\"dataframe\">\n",
       "  <thead>\n",
       "    <tr style=\"text-align: right;\">\n",
       "      <th></th>\n",
       "      <th>Pred 1</th>\n",
       "      <th>Pred 0</th>\n",
       "    </tr>\n",
       "  </thead>\n",
       "  <tbody>\n",
       "    <tr>\n",
       "      <th>Act 1</th>\n",
       "      <td>37</td>\n",
       "      <td>3</td>\n",
       "    </tr>\n",
       "    <tr>\n",
       "      <th>Act 0</th>\n",
       "      <td>10</td>\n",
       "      <td>24</td>\n",
       "    </tr>\n",
       "  </tbody>\n",
       "</table>\n",
       "</div>"
      ],
      "text/plain": [
       "       Pred 1  Pred 0\n",
       "Act 1      37       3\n",
       "Act 0      10      24"
      ]
     },
     "execution_count": 57,
     "metadata": {},
     "output_type": "execute_result"
    }
   ],
   "source": [
    "cm_LR_tuned = confusion_matrix(y_test, y_pred_LR_tuned, labels = [1,0])\n",
    "df_LR_tuned = pd.DataFrame(data = cm_LR_tuned , index = [\"Act 1\",\"Act 0\"], columns = [\"Pred 1\", \"Pred 0\"])\n",
    "df_LR_tuned"
   ]
  },
  {
   "cell_type": "markdown",
   "metadata": {},
   "source": [
    "### K-Nearest Neighbors (Base Model)"
   ]
  },
  {
   "cell_type": "code",
   "execution_count": 22,
   "metadata": {},
   "outputs": [],
   "source": [
    "from sklearn.neighbors import KNeighborsClassifier"
   ]
  },
  {
   "cell_type": "code",
   "execution_count": 23,
   "metadata": {},
   "outputs": [],
   "source": [
    "KNN = KNeighborsClassifier()\n",
    "KNN.fit(X_sm, y_sm)\n",
    "y_pred_KNN = KNN.predict(X_test)"
   ]
  },
  {
   "cell_type": "code",
   "execution_count": 24,
   "metadata": {},
   "outputs": [
    {
     "name": "stdout",
     "output_type": "stream",
     "text": [
      "              precision    recall  f1-score   support\n",
      "\n",
      "           0       0.84      0.62      0.71        34\n",
      "           1       0.73      0.90      0.81        40\n",
      "\n",
      "    accuracy                           0.77        74\n",
      "   macro avg       0.79      0.76      0.76        74\n",
      "weighted avg       0.78      0.77      0.76        74\n",
      "\n"
     ]
    }
   ],
   "source": [
    "acc_KNN = accuracy_score(y_test, y_pred_KNN)\n",
    "pre_KNN = precision_score(y_test, y_pred_KNN)\n",
    "rec_KNN = recall_score(y_test, y_pred_KNN)\n",
    "f1_KNN = f1_score(y_test, y_pred_KNN)\n",
    "print(classification_report(y_test, y_pred_KNN))"
   ]
  },
  {
   "cell_type": "code",
   "execution_count": 25,
   "metadata": {},
   "outputs": [
    {
     "data": {
      "text/html": [
       "<div>\n",
       "<style scoped>\n",
       "    .dataframe tbody tr th:only-of-type {\n",
       "        vertical-align: middle;\n",
       "    }\n",
       "\n",
       "    .dataframe tbody tr th {\n",
       "        vertical-align: top;\n",
       "    }\n",
       "\n",
       "    .dataframe thead th {\n",
       "        text-align: right;\n",
       "    }\n",
       "</style>\n",
       "<table border=\"1\" class=\"dataframe\">\n",
       "  <thead>\n",
       "    <tr style=\"text-align: right;\">\n",
       "      <th></th>\n",
       "      <th>Pred 1</th>\n",
       "      <th>Pred 0</th>\n",
       "    </tr>\n",
       "  </thead>\n",
       "  <tbody>\n",
       "    <tr>\n",
       "      <th>Act 1</th>\n",
       "      <td>36</td>\n",
       "      <td>4</td>\n",
       "    </tr>\n",
       "    <tr>\n",
       "      <th>Act 0</th>\n",
       "      <td>13</td>\n",
       "      <td>21</td>\n",
       "    </tr>\n",
       "  </tbody>\n",
       "</table>\n",
       "</div>"
      ],
      "text/plain": [
       "       Pred 1  Pred 0\n",
       "Act 1      36       4\n",
       "Act 0      13      21"
      ]
     },
     "execution_count": 25,
     "metadata": {},
     "output_type": "execute_result"
    }
   ],
   "source": [
    "cm_KNN = confusion_matrix(y_test, y_pred_KNN, labels = [1,0])\n",
    "df_KNN = pd.DataFrame(data = cm_KNN, index = [\"Act 1\",\"Act 0\"], columns = [\"Pred 1\", \"Pred 0\"])\n",
    "df_KNN"
   ]
  },
  {
   "cell_type": "markdown",
   "metadata": {},
   "source": [
    "## KNN Classifier - Hyperparameter Tuning"
   ]
  },
  {
   "cell_type": "code",
   "execution_count": 26,
   "metadata": {},
   "outputs": [],
   "source": [
    "from sklearn.model_selection import GridSearchCV"
   ]
  },
  {
   "cell_type": "code",
   "execution_count": 32,
   "metadata": {},
   "outputs": [],
   "source": [
    "KNN_tuning = KNeighborsClassifier()\n",
    "para_KNN = {'n_neighbors': [5, 3 , 10, 20],\n",
    "            'weights': ['uniform', 'distance'],\n",
    "            'p': [2,1, 0.2],\n",
    "            'algorithm': ['auto', 'kd_tree']}\n",
    "KNN_tuning = GridSearchCV(estimator = KNN_tuning, param_grid = para_KNN, cv = 3, n_jobs = -1 , verbose = 1, scoring = 'recall')"
   ]
  },
  {
   "cell_type": "code",
   "execution_count": 33,
   "metadata": {},
   "outputs": [
    {
     "name": "stdout",
     "output_type": "stream",
     "text": [
      "Fitting 3 folds for each of 48 candidates, totalling 144 fits\n"
     ]
    },
    {
     "name": "stderr",
     "output_type": "stream",
     "text": [
      "[Parallel(n_jobs=-1)]: Using backend LokyBackend with 8 concurrent workers.\n",
      "[Parallel(n_jobs=-1)]: Done  56 tasks      | elapsed:    0.2s\n",
      "[Parallel(n_jobs=-1)]: Done 144 out of 144 | elapsed:    0.4s finished\n"
     ]
    }
   ],
   "source": [
    "KNN_tuning.fit(X_sm, y_sm)\n",
    "KNN_tuned = KNN_tuning.best_estimator_\n",
    "y_pred_KNN_tuned = KNN_tuned.predict(X_test)"
   ]
  },
  {
   "cell_type": "code",
   "execution_count": 34,
   "metadata": {},
   "outputs": [
    {
     "name": "stdout",
     "output_type": "stream",
     "text": [
      "              precision    recall  f1-score   support\n",
      "\n",
      "           0       0.82      0.53      0.64        34\n",
      "           1       0.69      0.90      0.78        40\n",
      "\n",
      "    accuracy                           0.73        74\n",
      "   macro avg       0.76      0.71      0.71        74\n",
      "weighted avg       0.75      0.73      0.72        74\n",
      "\n"
     ]
    }
   ],
   "source": [
    "acc_KNN_tuned = accuracy_score(y_test, y_pred_KNN_tuned)\n",
    "rec_KNN_tuned = recall_score(y_test, y_pred_KNN_tuned)\n",
    "pre_KNN_tuned = precision_score(y_test, y_pred_KNN_tuned)\n",
    "f1_KNN_tuned = f1_score(y_test, y_pred_KNN_tuned)\n",
    "print(classification_report(y_test, y_pred_KNN_tuned))"
   ]
  },
  {
   "cell_type": "code",
   "execution_count": 35,
   "metadata": {},
   "outputs": [
    {
     "data": {
      "text/html": [
       "<div>\n",
       "<style scoped>\n",
       "    .dataframe tbody tr th:only-of-type {\n",
       "        vertical-align: middle;\n",
       "    }\n",
       "\n",
       "    .dataframe tbody tr th {\n",
       "        vertical-align: top;\n",
       "    }\n",
       "\n",
       "    .dataframe thead th {\n",
       "        text-align: right;\n",
       "    }\n",
       "</style>\n",
       "<table border=\"1\" class=\"dataframe\">\n",
       "  <thead>\n",
       "    <tr style=\"text-align: right;\">\n",
       "      <th></th>\n",
       "      <th>Pred 1</th>\n",
       "      <th>Pred 0</th>\n",
       "    </tr>\n",
       "  </thead>\n",
       "  <tbody>\n",
       "    <tr>\n",
       "      <th>Act 1</th>\n",
       "      <td>36</td>\n",
       "      <td>4</td>\n",
       "    </tr>\n",
       "    <tr>\n",
       "      <th>Act 0</th>\n",
       "      <td>16</td>\n",
       "      <td>18</td>\n",
       "    </tr>\n",
       "  </tbody>\n",
       "</table>\n",
       "</div>"
      ],
      "text/plain": [
       "       Pred 1  Pred 0\n",
       "Act 1      36       4\n",
       "Act 0      16      18"
      ]
     },
     "execution_count": 35,
     "metadata": {},
     "output_type": "execute_result"
    }
   ],
   "source": [
    "cm_KNN_tuned = confusion_matrix(y_test, y_pred_KNN_tuned, labels = [1,0])\n",
    "df_KNN_tuned = pd.DataFrame(data = cm_KNN_tuned , index = [\"Act 1\",\"Act 0\"], columns = [\"Pred 1\", \"Pred 0\"])\n",
    "df_KNN_tuned"
   ]
  },
  {
   "cell_type": "markdown",
   "metadata": {},
   "source": [
    "### Random Forest (Base Model)"
   ]
  },
  {
   "cell_type": "code",
   "execution_count": 36,
   "metadata": {},
   "outputs": [],
   "source": [
    "from sklearn.ensemble import RandomForestClassifier"
   ]
  },
  {
   "cell_type": "code",
   "execution_count": 37,
   "metadata": {},
   "outputs": [],
   "source": [
    "RFC = RandomForestClassifier(random_state=99)\n",
    "RFC.fit(X_sm, y_sm)\n",
    "y_pred_RFC = RFC.predict(X_test)"
   ]
  },
  {
   "cell_type": "code",
   "execution_count": 38,
   "metadata": {},
   "outputs": [
    {
     "name": "stdout",
     "output_type": "stream",
     "text": [
      "              precision    recall  f1-score   support\n",
      "\n",
      "           0       0.87      0.76      0.81        34\n",
      "           1       0.82      0.90      0.86        40\n",
      "\n",
      "    accuracy                           0.84        74\n",
      "   macro avg       0.84      0.83      0.83        74\n",
      "weighted avg       0.84      0.84      0.84        74\n",
      "\n"
     ]
    }
   ],
   "source": [
    "acc_RFC = accuracy_score(y_test, y_pred_RFC)\n",
    "pre_RFC = precision_score(y_test, y_pred_RFC)\n",
    "rec_RFC = recall_score(y_test, y_pred_RFC)\n",
    "f1_RFC = f1_score(y_test, y_pred_RFC)\n",
    "print(classification_report(y_test, y_pred_RFC))"
   ]
  },
  {
   "cell_type": "code",
   "execution_count": 39,
   "metadata": {},
   "outputs": [
    {
     "data": {
      "text/html": [
       "<div>\n",
       "<style scoped>\n",
       "    .dataframe tbody tr th:only-of-type {\n",
       "        vertical-align: middle;\n",
       "    }\n",
       "\n",
       "    .dataframe tbody tr th {\n",
       "        vertical-align: top;\n",
       "    }\n",
       "\n",
       "    .dataframe thead th {\n",
       "        text-align: right;\n",
       "    }\n",
       "</style>\n",
       "<table border=\"1\" class=\"dataframe\">\n",
       "  <thead>\n",
       "    <tr style=\"text-align: right;\">\n",
       "      <th></th>\n",
       "      <th>Pred 1</th>\n",
       "      <th>Pred 0</th>\n",
       "    </tr>\n",
       "  </thead>\n",
       "  <tbody>\n",
       "    <tr>\n",
       "      <th>Act 1</th>\n",
       "      <td>36</td>\n",
       "      <td>4</td>\n",
       "    </tr>\n",
       "    <tr>\n",
       "      <th>Act 0</th>\n",
       "      <td>8</td>\n",
       "      <td>26</td>\n",
       "    </tr>\n",
       "  </tbody>\n",
       "</table>\n",
       "</div>"
      ],
      "text/plain": [
       "       Pred 1  Pred 0\n",
       "Act 1      36       4\n",
       "Act 0       8      26"
      ]
     },
     "execution_count": 39,
     "metadata": {},
     "output_type": "execute_result"
    }
   ],
   "source": [
    "cm_RFC = confusion_matrix(y_test, y_pred_RFC, labels = [1,0])\n",
    "df_RFC = pd.DataFrame(data = cm_RFC, index = [\"Act 1\",\"Act 0\"], columns = [\"Pred 1\", \"Pred 0\"])\n",
    "df_RFC"
   ]
  },
  {
   "cell_type": "markdown",
   "metadata": {},
   "source": [
    "### Random Forest (Hyperparameter Tuning)"
   ]
  },
  {
   "cell_type": "code",
   "execution_count": 40,
   "metadata": {},
   "outputs": [],
   "source": [
    "from sklearn.ensemble import RandomForestClassifier\n",
    "from sklearn.model_selection import RandomizedSearchCV"
   ]
  },
  {
   "cell_type": "code",
   "execution_count": 41,
   "metadata": {},
   "outputs": [],
   "source": [
    "RFC_tuning = RandomForestClassifier(random_state=99)\n",
    "para_RFC = {'n_estimators': [100, 50, 250, 500],\n",
    "           'max_depth': [None, 5, 10],\n",
    "           'min_samples_split': [2, 5, 10],\n",
    "           'min_samples_leaf': [1, 7, 15]}\n",
    "RFC_tuning = RandomizedSearchCV(estimator = RFC_tuning, param_distributions = para_RFC, cv = 3, n_jobs = -1 , verbose = 2, scoring = 'recall')"
   ]
  },
  {
   "cell_type": "code",
   "execution_count": 42,
   "metadata": {},
   "outputs": [
    {
     "name": "stdout",
     "output_type": "stream",
     "text": [
      "Fitting 3 folds for each of 10 candidates, totalling 30 fits\n"
     ]
    },
    {
     "name": "stderr",
     "output_type": "stream",
     "text": [
      "[Parallel(n_jobs=-1)]: Using backend LokyBackend with 8 concurrent workers.\n",
      "[Parallel(n_jobs=-1)]: Done  30 out of  30 | elapsed:    3.4s finished\n"
     ]
    }
   ],
   "source": [
    "RFC_tuning.fit(X_sm, y_sm)\n",
    "RFC_tuned = RFC_tuning.best_estimator_\n",
    "y_pred_RFC_tuned = RFC_tuned.predict(X_test)"
   ]
  },
  {
   "cell_type": "code",
   "execution_count": 43,
   "metadata": {},
   "outputs": [
    {
     "name": "stdout",
     "output_type": "stream",
     "text": [
      "              precision    recall  f1-score   support\n",
      "\n",
      "           0       0.83      0.71      0.76        34\n",
      "           1       0.78      0.88      0.82        40\n",
      "\n",
      "    accuracy                           0.80        74\n",
      "   macro avg       0.80      0.79      0.79        74\n",
      "weighted avg       0.80      0.80      0.80        74\n",
      "\n"
     ]
    }
   ],
   "source": [
    "acc_RFC_tuned = accuracy_score(y_test, y_pred_RFC_tuned)\n",
    "pre_RFC_tuned = precision_score(y_test, y_pred_RFC_tuned)\n",
    "rec_RFC_tuned = recall_score(y_test, y_pred_RFC_tuned)\n",
    "f1_RFC_tuned = f1_score(y_test, y_pred_RFC_tuned)\n",
    "print(classification_report(y_test, y_pred_RFC_tuned))"
   ]
  },
  {
   "cell_type": "code",
   "execution_count": 45,
   "metadata": {},
   "outputs": [
    {
     "data": {
      "text/html": [
       "<div>\n",
       "<style scoped>\n",
       "    .dataframe tbody tr th:only-of-type {\n",
       "        vertical-align: middle;\n",
       "    }\n",
       "\n",
       "    .dataframe tbody tr th {\n",
       "        vertical-align: top;\n",
       "    }\n",
       "\n",
       "    .dataframe thead th {\n",
       "        text-align: right;\n",
       "    }\n",
       "</style>\n",
       "<table border=\"1\" class=\"dataframe\">\n",
       "  <thead>\n",
       "    <tr style=\"text-align: right;\">\n",
       "      <th></th>\n",
       "      <th>Pred 1</th>\n",
       "      <th>Pred 0</th>\n",
       "    </tr>\n",
       "  </thead>\n",
       "  <tbody>\n",
       "    <tr>\n",
       "      <th>Act 1</th>\n",
       "      <td>35</td>\n",
       "      <td>5</td>\n",
       "    </tr>\n",
       "    <tr>\n",
       "      <th>Act 0</th>\n",
       "      <td>10</td>\n",
       "      <td>24</td>\n",
       "    </tr>\n",
       "  </tbody>\n",
       "</table>\n",
       "</div>"
      ],
      "text/plain": [
       "       Pred 1  Pred 0\n",
       "Act 1      35       5\n",
       "Act 0      10      24"
      ]
     },
     "execution_count": 45,
     "metadata": {},
     "output_type": "execute_result"
    }
   ],
   "source": [
    "cm_RFC_tuned = confusion_matrix(y_test, y_pred_RFC_tuned, labels = [1,0])\n",
    "df_RFC_tuned = pd.DataFrame(data = cm_RFC_tuned , index = [\"Act 1\",\"Act 0\"], columns = [\"Pred 1\", \"Pred 0\"])\n",
    "df_RFC_tuned"
   ]
  },
  {
   "cell_type": "markdown",
   "metadata": {},
   "source": [
    "## XtremeGradientBoosting (base model)"
   ]
  },
  {
   "cell_type": "code",
   "execution_count": 46,
   "metadata": {},
   "outputs": [],
   "source": [
    "from sklearn.ensemble import GradientBoostingClassifier"
   ]
  },
  {
   "cell_type": "code",
   "execution_count": 48,
   "metadata": {},
   "outputs": [],
   "source": [
    "XGB = GradientBoostingClassifier()\n",
    "XGB.fit(X_sm, y_sm)\n",
    "y_pred_XGB = XGB.predict(X_test)"
   ]
  },
  {
   "cell_type": "code",
   "execution_count": 49,
   "metadata": {},
   "outputs": [
    {
     "name": "stdout",
     "output_type": "stream",
     "text": [
      "              precision    recall  f1-score   support\n",
      "\n",
      "           0       0.81      0.65      0.72        34\n",
      "           1       0.74      0.88      0.80        40\n",
      "\n",
      "    accuracy                           0.77        74\n",
      "   macro avg       0.78      0.76      0.76        74\n",
      "weighted avg       0.78      0.77      0.77        74\n",
      "\n"
     ]
    }
   ],
   "source": [
    "acc_XGB = accuracy_score(y_test, y_pred_XGB)\n",
    "pre_XGB = precision_score(y_test, y_pred_XGB)\n",
    "rec_XGB = recall_score(y_test, y_pred_XGB)\n",
    "f1_XGB = f1_score(y_test, y_pred_XGB)\n",
    "print(classification_report(y_test, y_pred_XGB))"
   ]
  },
  {
   "cell_type": "code",
   "execution_count": 51,
   "metadata": {},
   "outputs": [
    {
     "data": {
      "text/html": [
       "<div>\n",
       "<style scoped>\n",
       "    .dataframe tbody tr th:only-of-type {\n",
       "        vertical-align: middle;\n",
       "    }\n",
       "\n",
       "    .dataframe tbody tr th {\n",
       "        vertical-align: top;\n",
       "    }\n",
       "\n",
       "    .dataframe thead th {\n",
       "        text-align: right;\n",
       "    }\n",
       "</style>\n",
       "<table border=\"1\" class=\"dataframe\">\n",
       "  <thead>\n",
       "    <tr style=\"text-align: right;\">\n",
       "      <th></th>\n",
       "      <th>Pred 1</th>\n",
       "      <th>Pred 0</th>\n",
       "    </tr>\n",
       "  </thead>\n",
       "  <tbody>\n",
       "    <tr>\n",
       "      <th>Act 1</th>\n",
       "      <td>35</td>\n",
       "      <td>5</td>\n",
       "    </tr>\n",
       "    <tr>\n",
       "      <th>Act 0</th>\n",
       "      <td>12</td>\n",
       "      <td>22</td>\n",
       "    </tr>\n",
       "  </tbody>\n",
       "</table>\n",
       "</div>"
      ],
      "text/plain": [
       "       Pred 1  Pred 0\n",
       "Act 1      35       5\n",
       "Act 0      12      22"
      ]
     },
     "execution_count": 51,
     "metadata": {},
     "output_type": "execute_result"
    }
   ],
   "source": [
    "cm_XGB = confusion_matrix(y_test, y_pred_XGB, labels = [1,0])\n",
    "df_XGB = pd.DataFrame(data = cm_XGB, index = [\"Act 1\",\"Act 0\"], columns = [\"Pred 1\", \"Pred 0\"])\n",
    "df_XGB"
   ]
  },
  {
   "cell_type": "markdown",
   "metadata": {},
   "source": [
    "# Summary"
   ]
  },
  {
   "cell_type": "code",
   "execution_count": 61,
   "metadata": {},
   "outputs": [
    {
     "data": {
      "text/html": [
       "<div>\n",
       "<style scoped>\n",
       "    .dataframe tbody tr th:only-of-type {\n",
       "        vertical-align: middle;\n",
       "    }\n",
       "\n",
       "    .dataframe tbody tr th {\n",
       "        vertical-align: top;\n",
       "    }\n",
       "\n",
       "    .dataframe thead th {\n",
       "        text-align: right;\n",
       "    }\n",
       "</style>\n",
       "<table border=\"1\" class=\"dataframe\">\n",
       "  <thead>\n",
       "    <tr style=\"text-align: right;\">\n",
       "      <th></th>\n",
       "      <th>LR</th>\n",
       "      <th>LR_tuned</th>\n",
       "      <th>KNN</th>\n",
       "      <th>KNN_tuned</th>\n",
       "      <th>RandomForest</th>\n",
       "      <th>RandomForest_tuned</th>\n",
       "      <th>XGB</th>\n",
       "    </tr>\n",
       "  </thead>\n",
       "  <tbody>\n",
       "    <tr>\n",
       "      <th>Accuracy</th>\n",
       "      <td>0.837838</td>\n",
       "      <td>0.824324</td>\n",
       "      <td>0.770270</td>\n",
       "      <td>0.729730</td>\n",
       "      <td>0.837838</td>\n",
       "      <td>0.797297</td>\n",
       "      <td>0.770270</td>\n",
       "    </tr>\n",
       "    <tr>\n",
       "      <th>Recall</th>\n",
       "      <td>0.925000</td>\n",
       "      <td>0.925000</td>\n",
       "      <td>0.900000</td>\n",
       "      <td>0.900000</td>\n",
       "      <td>0.900000</td>\n",
       "      <td>0.875000</td>\n",
       "      <td>0.875000</td>\n",
       "    </tr>\n",
       "    <tr>\n",
       "      <th>Precision</th>\n",
       "      <td>0.804348</td>\n",
       "      <td>0.787234</td>\n",
       "      <td>0.734694</td>\n",
       "      <td>0.692308</td>\n",
       "      <td>0.818182</td>\n",
       "      <td>0.777778</td>\n",
       "      <td>0.744681</td>\n",
       "    </tr>\n",
       "    <tr>\n",
       "      <th>F1-Score</th>\n",
       "      <td>0.860465</td>\n",
       "      <td>0.850575</td>\n",
       "      <td>0.808989</td>\n",
       "      <td>0.782609</td>\n",
       "      <td>0.857143</td>\n",
       "      <td>0.823529</td>\n",
       "      <td>0.804598</td>\n",
       "    </tr>\n",
       "  </tbody>\n",
       "</table>\n",
       "</div>"
      ],
      "text/plain": [
       "                 LR  LR_tuned       KNN  KNN_tuned  RandomForest  \\\n",
       "Accuracy   0.837838  0.824324  0.770270   0.729730      0.837838   \n",
       "Recall     0.925000  0.925000  0.900000   0.900000      0.900000   \n",
       "Precision  0.804348  0.787234  0.734694   0.692308      0.818182   \n",
       "F1-Score   0.860465  0.850575  0.808989   0.782609      0.857143   \n",
       "\n",
       "           RandomForest_tuned       XGB  \n",
       "Accuracy             0.797297  0.770270  \n",
       "Recall               0.875000  0.875000  \n",
       "Precision            0.777778  0.744681  \n",
       "F1-Score             0.823529  0.804598  "
      ]
     },
     "execution_count": 61,
     "metadata": {},
     "output_type": "execute_result"
    }
   ],
   "source": [
    "summary = {\n",
    "    \"LR\": [acc_LR, rec_LR, pre_LR, f1_LR],\n",
    "    \"LR_tuned\": [acc_LR_tuned, rec_LR_tuned, pre_LR_tuned, f1_LR_tuned],\n",
    "    \"KNN\": [acc_KNN, rec_KNN, pre_KNN, f1_KNN],\n",
    "    \"KNN_tuned\": [acc_KNN_tuned, rec_KNN_tuned, pre_KNN_tuned, f1_KNN_tuned],\n",
    "    \"RandomForest\": [acc_RFC, rec_RFC, pre_RFC, f1_RFC],\n",
    "    \"RandomForest_tuned\": [acc_RFC_tuned, rec_RFC_tuned, pre_RFC_tuned, f1_RFC_tuned],\n",
    "    \"XGB\": [acc_XGB, rec_XGB, pre_XGB, f1_XGB]}\n",
    "\n",
    "summary = pd.DataFrame(data=summary, index=['Accuracy', 'Recall', 'Precision', 'F1-Score'])\n",
    "summary"
   ]
  },
  {
   "cell_type": "markdown",
   "metadata": {},
   "source": [
    "Summary:\n",
    "- The best model is Logistic Regression with recall value of 92.5% and 83.8%  accuracy\n",
    "- With the best model, there is only 3 people who is missed from prediction."
   ]
  },
  {
   "cell_type": "code",
   "execution_count": null,
   "metadata": {},
   "outputs": [],
   "source": []
  }
 ],
 "metadata": {
  "kernelspec": {
   "display_name": "Python 3",
   "language": "python",
   "name": "python3"
  },
  "language_info": {
   "codemirror_mode": {
    "name": "ipython",
    "version": 3
   },
   "file_extension": ".py",
   "mimetype": "text/x-python",
   "name": "python",
   "nbconvert_exporter": "python",
   "pygments_lexer": "ipython3",
   "version": "3.8.5"
  }
 },
 "nbformat": 4,
 "nbformat_minor": 4
}
